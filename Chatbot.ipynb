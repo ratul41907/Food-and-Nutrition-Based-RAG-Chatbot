{
  "nbformat": 4,
  "nbformat_minor": 0,
  "metadata": {
    "colab": {
      "provenance": [],
      "gpuType": "T4",
      "authorship_tag": "ABX9TyOhsLfKjs4S9W5D7cK3xW7f",
      "include_colab_link": true
    },
    "kernelspec": {
      "name": "python3",
      "display_name": "Python 3"
    },
    "language_info": {
      "name": "python"
    },
    "accelerator": "GPU"
  },
  "cells": [
    {
      "cell_type": "markdown",
      "metadata": {
        "id": "view-in-github",
        "colab_type": "text"
      },
      "source": [
        "<a href=\"https://colab.research.google.com/github/ratul41907/Food-and-Nutrition-Based-RAG-Chatbot/blob/main/Chatbot.ipynb\" target=\"_parent\"><img src=\"https://colab.research.google.com/assets/colab-badge.svg\" alt=\"Open In Colab\"/></a>"
      ]
    },
    {
      "cell_type": "code",
      "execution_count": null,
      "metadata": {
        "colab": {
          "base_uri": "https://localhost:8080/"
        },
        "id": "bg0Img68vgE4",
        "outputId": "97d3234e-7a6f-40bb-fff7-99609bbecfc2"
      },
      "outputs": [
        {
          "output_type": "stream",
          "name": "stdout",
          "text": [
            "Requirement already satisfied: scikit-learn in /usr/local/lib/python3.12/dist-packages (1.6.1)\n",
            "Requirement already satisfied: sentence-transformers in /usr/local/lib/python3.12/dist-packages (5.1.1)\n",
            "Requirement already satisfied: transformers in /usr/local/lib/python3.12/dist-packages (4.57.1)\n",
            "Collecting faiss-cpu\n",
            "  Downloading faiss_cpu-1.12.0-cp312-cp312-manylinux_2_27_x86_64.manylinux_2_28_x86_64.whl.metadata (5.1 kB)\n",
            "Requirement already satisfied: pandas in /usr/local/lib/python3.12/dist-packages (2.2.2)\n",
            "Requirement already satisfied: numpy>=1.19.5 in /usr/local/lib/python3.12/dist-packages (from scikit-learn) (2.0.2)\n",
            "Requirement already satisfied: scipy>=1.6.0 in /usr/local/lib/python3.12/dist-packages (from scikit-learn) (1.16.2)\n",
            "Requirement already satisfied: joblib>=1.2.0 in /usr/local/lib/python3.12/dist-packages (from scikit-learn) (1.5.2)\n",
            "Requirement already satisfied: threadpoolctl>=3.1.0 in /usr/local/lib/python3.12/dist-packages (from scikit-learn) (3.6.0)\n",
            "Requirement already satisfied: tqdm in /usr/local/lib/python3.12/dist-packages (from sentence-transformers) (4.67.1)\n",
            "Requirement already satisfied: torch>=1.11.0 in /usr/local/lib/python3.12/dist-packages (from sentence-transformers) (2.8.0+cu126)\n",
            "Requirement already satisfied: huggingface-hub>=0.20.0 in /usr/local/lib/python3.12/dist-packages (from sentence-transformers) (0.35.3)\n",
            "Requirement already satisfied: Pillow in /usr/local/lib/python3.12/dist-packages (from sentence-transformers) (11.3.0)\n",
            "Requirement already satisfied: typing_extensions>=4.5.0 in /usr/local/lib/python3.12/dist-packages (from sentence-transformers) (4.15.0)\n",
            "Requirement already satisfied: filelock in /usr/local/lib/python3.12/dist-packages (from transformers) (3.20.0)\n",
            "Requirement already satisfied: packaging>=20.0 in /usr/local/lib/python3.12/dist-packages (from transformers) (25.0)\n",
            "Requirement already satisfied: pyyaml>=5.1 in /usr/local/lib/python3.12/dist-packages (from transformers) (6.0.3)\n",
            "Requirement already satisfied: regex!=2019.12.17 in /usr/local/lib/python3.12/dist-packages (from transformers) (2024.11.6)\n",
            "Requirement already satisfied: requests in /usr/local/lib/python3.12/dist-packages (from transformers) (2.32.4)\n",
            "Requirement already satisfied: tokenizers<=0.23.0,>=0.22.0 in /usr/local/lib/python3.12/dist-packages (from transformers) (0.22.1)\n",
            "Requirement already satisfied: safetensors>=0.4.3 in /usr/local/lib/python3.12/dist-packages (from transformers) (0.6.2)\n",
            "Requirement already satisfied: python-dateutil>=2.8.2 in /usr/local/lib/python3.12/dist-packages (from pandas) (2.9.0.post0)\n",
            "Requirement already satisfied: pytz>=2020.1 in /usr/local/lib/python3.12/dist-packages (from pandas) (2025.2)\n",
            "Requirement already satisfied: tzdata>=2022.7 in /usr/local/lib/python3.12/dist-packages (from pandas) (2025.2)\n",
            "Requirement already satisfied: fsspec>=2023.5.0 in /usr/local/lib/python3.12/dist-packages (from huggingface-hub>=0.20.0->sentence-transformers) (2025.3.0)\n",
            "Requirement already satisfied: hf-xet<2.0.0,>=1.1.3 in /usr/local/lib/python3.12/dist-packages (from huggingface-hub>=0.20.0->sentence-transformers) (1.1.10)\n",
            "Requirement already satisfied: six>=1.5 in /usr/local/lib/python3.12/dist-packages (from python-dateutil>=2.8.2->pandas) (1.17.0)\n",
            "Requirement already satisfied: setuptools in /usr/local/lib/python3.12/dist-packages (from torch>=1.11.0->sentence-transformers) (75.2.0)\n",
            "Requirement already satisfied: sympy>=1.13.3 in /usr/local/lib/python3.12/dist-packages (from torch>=1.11.0->sentence-transformers) (1.13.3)\n",
            "Requirement already satisfied: networkx in /usr/local/lib/python3.12/dist-packages (from torch>=1.11.0->sentence-transformers) (3.5)\n",
            "Requirement already satisfied: jinja2 in /usr/local/lib/python3.12/dist-packages (from torch>=1.11.0->sentence-transformers) (3.1.6)\n",
            "Requirement already satisfied: nvidia-cuda-nvrtc-cu12==12.6.77 in /usr/local/lib/python3.12/dist-packages (from torch>=1.11.0->sentence-transformers) (12.6.77)\n",
            "Requirement already satisfied: nvidia-cuda-runtime-cu12==12.6.77 in /usr/local/lib/python3.12/dist-packages (from torch>=1.11.0->sentence-transformers) (12.6.77)\n",
            "Requirement already satisfied: nvidia-cuda-cupti-cu12==12.6.80 in /usr/local/lib/python3.12/dist-packages (from torch>=1.11.0->sentence-transformers) (12.6.80)\n",
            "Requirement already satisfied: nvidia-cudnn-cu12==9.10.2.21 in /usr/local/lib/python3.12/dist-packages (from torch>=1.11.0->sentence-transformers) (9.10.2.21)\n",
            "Requirement already satisfied: nvidia-cublas-cu12==12.6.4.1 in /usr/local/lib/python3.12/dist-packages (from torch>=1.11.0->sentence-transformers) (12.6.4.1)\n",
            "Requirement already satisfied: nvidia-cufft-cu12==11.3.0.4 in /usr/local/lib/python3.12/dist-packages (from torch>=1.11.0->sentence-transformers) (11.3.0.4)\n",
            "Requirement already satisfied: nvidia-curand-cu12==10.3.7.77 in /usr/local/lib/python3.12/dist-packages (from torch>=1.11.0->sentence-transformers) (10.3.7.77)\n",
            "Requirement already satisfied: nvidia-cusolver-cu12==11.7.1.2 in /usr/local/lib/python3.12/dist-packages (from torch>=1.11.0->sentence-transformers) (11.7.1.2)\n",
            "Requirement already satisfied: nvidia-cusparse-cu12==12.5.4.2 in /usr/local/lib/python3.12/dist-packages (from torch>=1.11.0->sentence-transformers) (12.5.4.2)\n",
            "Requirement already satisfied: nvidia-cusparselt-cu12==0.7.1 in /usr/local/lib/python3.12/dist-packages (from torch>=1.11.0->sentence-transformers) (0.7.1)\n",
            "Requirement already satisfied: nvidia-nccl-cu12==2.27.3 in /usr/local/lib/python3.12/dist-packages (from torch>=1.11.0->sentence-transformers) (2.27.3)\n",
            "Requirement already satisfied: nvidia-nvtx-cu12==12.6.77 in /usr/local/lib/python3.12/dist-packages (from torch>=1.11.0->sentence-transformers) (12.6.77)\n",
            "Requirement already satisfied: nvidia-nvjitlink-cu12==12.6.85 in /usr/local/lib/python3.12/dist-packages (from torch>=1.11.0->sentence-transformers) (12.6.85)\n",
            "Requirement already satisfied: nvidia-cufile-cu12==1.11.1.6 in /usr/local/lib/python3.12/dist-packages (from torch>=1.11.0->sentence-transformers) (1.11.1.6)\n",
            "Requirement already satisfied: triton==3.4.0 in /usr/local/lib/python3.12/dist-packages (from torch>=1.11.0->sentence-transformers) (3.4.0)\n",
            "Requirement already satisfied: charset_normalizer<4,>=2 in /usr/local/lib/python3.12/dist-packages (from requests->transformers) (3.4.4)\n",
            "Requirement already satisfied: idna<4,>=2.5 in /usr/local/lib/python3.12/dist-packages (from requests->transformers) (3.11)\n",
            "Requirement already satisfied: urllib3<3,>=1.21.1 in /usr/local/lib/python3.12/dist-packages (from requests->transformers) (2.5.0)\n",
            "Requirement already satisfied: certifi>=2017.4.17 in /usr/local/lib/python3.12/dist-packages (from requests->transformers) (2025.10.5)\n",
            "Requirement already satisfied: mpmath<1.4,>=1.1.0 in /usr/local/lib/python3.12/dist-packages (from sympy>=1.13.3->torch>=1.11.0->sentence-transformers) (1.3.0)\n",
            "Requirement already satisfied: MarkupSafe>=2.0 in /usr/local/lib/python3.12/dist-packages (from jinja2->torch>=1.11.0->sentence-transformers) (3.0.3)\n",
            "Downloading faiss_cpu-1.12.0-cp312-cp312-manylinux_2_27_x86_64.manylinux_2_28_x86_64.whl (31.4 MB)\n",
            "\u001b[2K   \u001b[90m━━━━━━━━━━━━━━━━━━━━━━━━━━━━━━━━━━━━━━━━\u001b[0m \u001b[32m31.4/31.4 MB\u001b[0m \u001b[31m46.8 MB/s\u001b[0m eta \u001b[36m0:00:00\u001b[0m\n",
            "\u001b[?25hInstalling collected packages: faiss-cpu\n",
            "Successfully installed faiss-cpu-1.12.0\n"
          ]
        }
      ],
      "source": [
        "!pip install scikit-learn sentence-transformers transformers faiss-cpu pandas\n"
      ]
    },
    {
      "cell_type": "code",
      "source": [
        "import pandas as pd"
      ],
      "metadata": {
        "id": "jvXLwe1Ty8uC"
      },
      "execution_count": null,
      "outputs": []
    },
    {
      "cell_type": "code",
      "source": [
        "from google.colab import drive\n",
        "\n",
        "\n",
        "drive.mount('/content/drive')\n"
      ],
      "metadata": {
        "colab": {
          "base_uri": "https://localhost:8080/"
        },
        "id": "BWPLWABU3_1p",
        "outputId": "e081c013-9351-45f0-d5ec-dfc57ef6afd9"
      },
      "execution_count": null,
      "outputs": [
        {
          "output_type": "stream",
          "name": "stdout",
          "text": [
            "Mounted at /content/drive\n"
          ]
        }
      ]
    },
    {
      "cell_type": "code",
      "source": [
        "import os\n",
        "# List files in your Google Drive folder\n",
        "os.listdir('/content/drive/MyDrive/')\n"
      ],
      "metadata": {
        "colab": {
          "base_uri": "https://localhost:8080/"
        },
        "id": "DrOdijrq2UvR",
        "outputId": "73f84552-b5b7-4143-9a11-6921e3461d69"
      },
      "execution_count": null,
      "outputs": [
        {
          "output_type": "execute_result",
          "data": {
            "text/plain": [
              "['Colab Notebooks',\n",
              " 'hsccc.pdf',\n",
              " 'WEB_BASED_RESULT_PUBLICATION_SYSTEM_FOR_EDUCATION_BOARDS.pdf',\n",
              " 'siuuu.jpg',\n",
              " 'de.jpg',\n",
              " 'Untitled presentation (1).gslides',\n",
              " 'Untitled document (19).gdoc',\n",
              " 'Copy of Year at a Glance - Template.gsheet',\n",
              " 'Untitled document (18).gdoc',\n",
              " 'plan.docx',\n",
              " 'Lecture 4.pptx',\n",
              " 'MS1 MAT 130 Summer 20023.pdf',\n",
              " 'CGPA calculator.xlsx',\n",
              " 'Weekly schedule planner1 (1).xlsx',\n",
              " 'Weekly schedule planner1.xlsx',\n",
              " 'Government.docx',\n",
              " 'Assignment SFR1.gdoc',\n",
              " 'Untitled document (17).gdoc',\n",
              " 'Procedures.gdoc',\n",
              " 'images.docx',\n",
              " 'cover page-1 (1).docx',\n",
              " 'Government.gdoc',\n",
              " 'Sem 1.gdoc',\n",
              " 'CW_23april.gdoc',\n",
              " 'WalidurRahman_2311712642_HW13.gdoc',\n",
              " 'Untitled document (16).gdoc',\n",
              " 'Untitled document (15).gdoc',\n",
              " 'Untitled document (14).gdoc',\n",
              " 'Recording 2024-04-28 102549 (1).mp4',\n",
              " 'MAY DAY.gsheet',\n",
              " 'Untitled document (13).gdoc',\n",
              " 'Untitled document (12).gdoc',\n",
              " 'To-do list (1).gsheet',\n",
              " 'Untitled spreadsheet (4).gsheet',\n",
              " 'Copy of IC-Student-Schedule-Template_Google-Sheet.gsheet',\n",
              " 'To-do list.gsheet',\n",
              " 'Arafat_2311539642_hW16.gdoc',\n",
              " 'Weekly time sheet.gsheet',\n",
              " 'Report.gdoc',\n",
              " '10-Abstract Classes and Interfaces.ppt',\n",
              " 'Untitled spreadsheet (3).gsheet',\n",
              " 'Js.jpg',\n",
              " 'import-java1111.gdoc',\n",
              " 'Untitled document - Bar chart 1.gsheet',\n",
              " 'Assignment2CSE215.gdoc',\n",
              " 'Arafat_2311539642_CW19.gdoc',\n",
              " 'Arafat-2311539642.gdoc',\n",
              " 'Untitled spreadsheet (2).gsheet',\n",
              " 'Untitled spreadsheet (1).gsheet',\n",
              " 'cover page-1 (1) - Copy.gdoc',\n",
              " '215',\n",
              " 'Untitled document (11).gdoc',\n",
              " 'MAT 250 Spring 24.pdf',\n",
              " 'EEE 141.gdoc',\n",
              " 'Scholarships.gsheet',\n",
              " 'Untitled spreadsheet.gsheet',\n",
              " 'add.gsheet',\n",
              " 'challo.xlsx',\n",
              " 'practice.gsheet',\n",
              " 'Final.gsheet',\n",
              " 'RAS Meeting, 14th July.docx',\n",
              " 'Project.gsheet',\n",
              " 'hotel_booking.csv',\n",
              " 'hotel_booking.gsheet',\n",
              " 'Box.gdoc',\n",
              " 'Photos.gdoc',\n",
              " 'Meeting Minutes.docx',\n",
              " '5_6271274210669106230.circ.gdoc',\n",
              " 'EEE 141 manual updated-1-9.gdoc',\n",
              " 'Security 23rd.gdoc',\n",
              " 'Event Permission WISE_Rafi.gdoc',\n",
              " 'Lab-1.gdoc',\n",
              " 'Physics Lab Reports',\n",
              " 'Event Permission - CV.gdoc',\n",
              " 'Security - CV.gdoc',\n",
              " 'Event-Permission-Succession (1).gdoc',\n",
              " 'Socials-Timeline-2024.gdoc',\n",
              " 'Succession-Timeline (1).gdoc',\n",
              " 'INSB PES Events',\n",
              " 'EEE Lab Reports',\n",
              " 'Cover Page.gdoc',\n",
              " 'Cover_350.gdoc',\n",
              " 'task1.gdoc',\n",
              " 'Recruitment_Form_Spring_2024.docx',\n",
              " 'Recruitment_Form_Spring_2024.gdoc',\n",
              " 'Recruitment_Form_Spring_2024 (1).gdoc',\n",
              " 'Untitled document (10).gdoc',\n",
              " '5th October Schedule.gdoc',\n",
              " 'cover page-1 (1) (1).gdoc',\n",
              " 'Untitled document (9).gdoc',\n",
              " 'cover page-1 (1).gdoc',\n",
              " 'MDT_Presentation.gslides',\n",
              " 'CGPA calculator (1).gsheet',\n",
              " 'Getting Started With UX: A Beginners’s Workshop Timeline.gdoc',\n",
              " 'Questions.gdoc',\n",
              " 'Untitled document (8).gdoc',\n",
              " 'Volunteer List for Security Clearance.gdoc',\n",
              " 'Recording 2024-12-09 091008.mp4',\n",
              " 'PMBD 5th Anniversary (25th Dec,2024)',\n",
              " 'WInter Project 2024.gsheet',\n",
              " 'Untitled document (7).gdoc',\n",
              " 'MAT 350',\n",
              " 'RAS Renewal.gsheet',\n",
              " '472325899_3882534908665471_6594591688060558268_n.jpg',\n",
              " '1.1+1.2 MAT116.pdf',\n",
              " 'MAT 116',\n",
              " 'AMNSE',\n",
              " 'CLUB_MANAGEMENT_CSE311.gdoc',\n",
              " 'CSE 311 Project_N.gdoc',\n",
              " 'Studies etc',\n",
              " 'MAT 116 Assignment.gdoc',\n",
              " 'PM_GM_Iftar.gsheet',\n",
              " 'CSE311_updated.gdoc',\n",
              " 'Untitled document (6).gdoc',\n",
              " 'March 26 is a tribute to the enduring courage of our people.gdoc',\n",
              " '2025-03-20 22-19-46.mp4',\n",
              " 'Project (1)',\n",
              " 'Group_17_Project_Report.gdoc',\n",
              " 'ASSIGNMENT-2-MAT-116.gdoc',\n",
              " 'PMBD',\n",
              " 'Untitled presentation.gslides',\n",
              " 'Untitled document (5).gdoc',\n",
              " 'MAT 485',\n",
              " 'IEEE RAS Chapter Retention Efforts (2024-2025).gdoc',\n",
              " 'vTools IEEE.gdoc',\n",
              " 'MAT 130',\n",
              " 'TA.gdoc',\n",
              " 'Untitled document (4).gdoc',\n",
              " 'Podcast Segments 92:48 by Peña Madridista Bangladesh.gdoc',\n",
              " 'Untitled document (3).gdoc',\n",
              " '311+332+373',\n",
              " 'Untitled document (2).gdoc',\n",
              " 'MAL361.4_StudentList.gsheet',\n",
              " 'CSE327.mp4',\n",
              " 'CSE_327_FInal_Project.mp4',\n",
              " 'Untitled document (1).gdoc',\n",
              " 'CGPA calculator.gsheet',\n",
              " 'Untitled document.gdoc',\n",
              " 'CSE215',\n",
              " 'Sem 1.docx',\n",
              " 'scent.gdoc',\n",
              " 'Birthday.gsheet',\n",
              " 'Project Proposal.gdoc',\n",
              " '445.gdoc']"
            ]
          },
          "metadata": {},
          "execution_count": 6
        }
      ]
    },
    {
      "cell_type": "code",
      "source": [
        "import os\n",
        "# List files in your Google Drive folder\n",
        "os.listdir('/content/drive/MyDrive/Colab Notebooks')\n"
      ],
      "metadata": {
        "colab": {
          "base_uri": "https://localhost:8080/"
        },
        "id": "tYIHkoly4nvb",
        "outputId": "6b50a859-e189-48bb-9f79-570ed30e9b8f"
      },
      "execution_count": null,
      "outputs": [
        {
          "output_type": "execute_result",
          "data": {
            "text/plain": [
              "['Chatbot.ipynb',\n",
              " 'Note1.ipynb',\n",
              " 'Project.ipynb',\n",
              " 'Untitled0.py',\n",
              " 'ML.ipynb',\n",
              " 'Untitled0.ipynb',\n",
              " 'MLBasics.ipynb',\n",
              " 'MLPart2.ipynb',\n",
              " 'DataAdding Misisng.ipynb',\n",
              " 'Data Standardization.ipynb',\n",
              " 'Label Encoding.ipynb',\n",
              " 'Handling Imbalanced Dataset.ipynb',\n",
              " 'Frequencies.ipynb',\n",
              " 'Untitled1.ipynb',\n",
              " 'Rock vs Mine using ML.ipynb',\n",
              " 'Diabetes Prediction.ipynb',\n",
              " 'OSTAD,_A_1.ipynb',\n",
              " 'OSTAD_A_2.ipynb',\n",
              " 'Untitled2.ipynb',\n",
              " 'beauty.parquet',\n",
              " 'food.parquet']"
            ]
          },
          "metadata": {},
          "execution_count": 12
        }
      ]
    },
    {
      "cell_type": "code",
      "source": [
        "#library fot .parquet\n",
        "!pip install pyarrow\n"
      ],
      "metadata": {
        "colab": {
          "base_uri": "https://localhost:8080/"
        },
        "id": "6TFf3quy5ka0",
        "outputId": "953f724c-5149-4284-e637-8269aa829972"
      },
      "execution_count": null,
      "outputs": [
        {
          "output_type": "stream",
          "name": "stdout",
          "text": [
            "Requirement already satisfied: pyarrow in /usr/local/lib/python3.12/dist-packages (18.1.0)\n"
          ]
        }
      ]
    },
    {
      "cell_type": "code",
      "source": [
        "import dask.dataframe as dd\n",
        "\n",
        "# Load the dataset using Dask (works for larger files)\n",
        "file_path_food = '/content/drive/MyDrive/Colab Notebooks/food.parquet'\n",
        "dask_df = dd.read_parquet(file_path_food)\n",
        "\n",
        "# Take the first 50,000 rows\n",
        "sampled_dask_df = dask_df.head(50000)  # Load the first 50,000 rows\n",
        "\n",
        "# Display the first few rows to ensure the data loaded correctly\n",
        "print(sampled_dask_df.head())\n",
        "\n",
        "# Save the subset to a new Parquet file\n",
        "sampled_dask_df.to_parquet('/content/drive/MyDrive/Colab Notebooks/food_sample.parquet')\n",
        "print(\"Data saved to food_sample.parquet\")\n"
      ],
      "metadata": {
        "colab": {
          "base_uri": "https://localhost:8080/"
        },
        "id": "CxiHvTWDBVxv",
        "outputId": "c6577bba-39a9-4927-f1a0-9f2c8350ba27"
      },
      "execution_count": null,
      "outputs": [
        {
          "output_type": "stream",
          "name": "stderr",
          "text": [
            "/usr/local/lib/python3.12/dist-packages/dask/dataframe/core.py:382: UserWarning: Insufficient elements for `head`. 50000 elements requested, only 35840 elements available. Try passing larger `npartitions` to `head`.\n",
            "  warnings.warn(\n"
          ]
        },
        {
          "output_type": "stream",
          "name": "stdout",
          "text": [
            "   additives_n additives_tags allergens_tags   brands_tags   brands  \\\n",
            "0          NaN           None      [en:nuts]  [xx:bovetti]  Bovetti   \n",
            "1          0.0             []             []      [lagg-s]   Lagg's   \n",
            "2          0.0             []             []      [lagg-s]   Lagg's   \n",
            "3          0.0             []             []   [xx:lagg-s]   Lagg's   \n",
            "4          0.0             []             []      [lagg-s]   Lagg's   \n",
            "\n",
            "                                          categories  \\\n",
            "0  Petit-déjeuners,Produits à tartiner,Produits à...   \n",
            "1                                               null   \n",
            "2  Plant-based foods and beverages, Beverages, Ho...   \n",
            "3  Beverages and beverages preparations, Plant-ba...   \n",
            "4                                               <NA>   \n",
            "\n",
            "                                     categories_tags  \\\n",
            "0  [en:breakfasts, en:spreads, en:sweet-spreads, ...   \n",
            "1                                          [en:null]   \n",
            "2  [en:plant-based-foods-and-beverages, en:bevera...   \n",
            "3  [en:beverages-and-beverages-preparations, en:p...   \n",
            "4                                               None   \n",
            "\n",
            "                               categories_properties checkers_tags  \\\n",
            "0  {'ciqual_food_code': 31032.0, 'agribalyse_food...            []   \n",
            "1  {'ciqual_food_code': None, 'agribalyse_food_co...            []   \n",
            "2  {'ciqual_food_code': 18020.0, 'agribalyse_food...            []   \n",
            "3  {'ciqual_food_code': 18020.0, 'agribalyse_food...            []   \n",
            "4  {'ciqual_food_code': None, 'agribalyse_food_co...            []   \n",
            "\n",
            "               ciqual_food_name_tags  ...  \\\n",
            "0  [chocolate-spread-with-hazelnuts]  ...   \n",
            "1                          [unknown]  ...   \n",
            "2                          [unknown]  ...   \n",
            "3                          [unknown]  ...   \n",
            "4                          [unknown]  ...   \n",
            "\n",
            "                                         states_tags stores_tags stores  \\\n",
            "0  [en:to-be-completed, en:nutrition-facts-comple...          []          \n",
            "1  [en:to-be-completed, en:nutrition-facts-comple...        None   <NA>   \n",
            "2  [en:to-be-completed, en:nutrition-facts-comple...        None   <NA>   \n",
            "3  [en:to-be-completed, en:nutrition-facts-comple...        None   <NA>   \n",
            "4  [en:to-be-completed, en:nutrition-facts-comple...        None   <NA>   \n",
            "\n",
            "   traces_tags  unique_scans_n unknown_ingredients_n unknown_nutrients_tags  \\\n",
            "0           []             1.0                   NaN                     []   \n",
            "1           []             1.0                   0.0                     []   \n",
            "2           []             NaN                   0.0                     []   \n",
            "3           []             NaN                   1.0                     []   \n",
            "4           []             NaN                   0.0                     []   \n",
            "\n",
            "   vitamins_tags with_non_nutritive_sweeteners with_sweeteners  \n",
            "0             []                           NaN             NaN  \n",
            "1             []                           NaN             NaN  \n",
            "2             []                           NaN             NaN  \n",
            "3             []                           NaN             NaN  \n",
            "4             []                           NaN             NaN  \n",
            "\n",
            "[5 rows x 110 columns]\n",
            "Data saved to food_sample.parquet\n"
          ]
        }
      ]
    }
  ]
}